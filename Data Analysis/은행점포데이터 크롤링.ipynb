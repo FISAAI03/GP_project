{
 "cells": [
  {
   "cell_type": "code",
   "execution_count": 11,
   "id": "377bd318",
   "metadata": {},
   "outputs": [
    {
     "name": "stdout",
     "output_type": "stream",
     "text": [
      "           은행          지점                           주소\n",
      "0     BNK경남은행          LH  경상남도 진주시 충무공동 충의로 19 LH진주사옥\n",
      "1     BNK경남은행       가산디지털       서울특별시 금천구 가산동 가산디지털 1로\n",
      "2     BNK경남은행     가음정금융센터          경상남도 창원시 성산구 대정로 36\n",
      "3     BNK경남은행          강남       서울특별시 강남구 대치동 영동대로 421\n",
      "4     BNK경남은행        거제고현      경상남도 거제시 고현동 거제중앙로 1895\n",
      "...       ...         ...                          ...\n",
      "5529   한국씨티은행          울산              울산광역시 남구 달동 번영로\n",
      "5530   한국씨티은행          제주          제주특별자치도 제주시 노형동 도령로\n",
      "5531   한국씨티은행    중앙기업업무센터         서울특별시 종로구 신문로2가 새문안로\n",
      "5532   한국씨티은행          청주            충청북도 청주시 서원구 1순환로\n",
      "5533   한국씨티은행  커머셜기업금융1센터         서울특별시 종로구 신문로2가 새문안로\n",
      "\n",
      "[5534 rows x 3 columns]\n"
     ]
    }
   ],
   "source": [
    "from selenium import webdriver\n",
    "from selenium.webdriver.common.by import By\n",
    "import pandas as pd\n",
    "import time\n",
    "\n",
    "result = []\n",
    "driver = webdriver.Chrome()  # 또는 webdriver.Chrome(executable_path=...)\n",
    "\n",
    "total_pages = 277\n",
    "\n",
    "for pg in range(1, total_pages+1):\n",
    "    url = f\"https://portal.kfb.or.kr/consumer/branch.php?pg={pg}&idx=&col=&sw=&gubun=&orderby=&code=&data_year=&s_que1=&s_que2=&s_que3=\"\n",
    "    driver.get(url)\n",
    "    time.sleep(1.5)  # 로딩 대기\n",
    "    rows = driver.find_elements(By.CSS_SELECTOR, \"tbody tr\")[1:]  # 헤더 제외\n",
    "    for row in rows:\n",
    "        tds = row.find_elements(By.TAG_NAME, \"td\")\n",
    "        if len(tds) != 4:\n",
    "            continue\n",
    "        은행 = tds[0].text.strip()\n",
    "        지점 = tds[1].text.strip()\n",
    "        주소 = tds[2].text.strip()\n",
    "        result.append({\"은행\": 은행, \"지점\": 지점, \"주소\": 주소})\n",
    "\n",
    "driver.quit()\n",
    "df = pd.DataFrame(result)\n",
    "print(df)\n"
   ]
  },
  {
   "cell_type": "code",
   "execution_count": null,
   "id": "83ad90c7",
   "metadata": {},
   "outputs": [],
   "source": [
    "import os\n",
    "from dotenv import load_dotenv\n",
    "\n",
    "# .env 파일 로드\n",
    "load_dotenv()\n",
    "\n",
    "# 환경 변수 가져오기\n",
    "DB_HOST = os.getenv(\"DB_HOST\")\n",
    "DB_PORT = os.getenv(\"DB_PORT\")\n",
    "DB_NAME = os.getenv(\"DB_NAME\") \n",
    "DB_USER = os.getenv(\"DB_USER\")\n",
    "DB_PASSWORD = os.getenv(\"DB_PASSWORD\")"
   ]
  },
  {
   "cell_type": "code",
   "execution_count": null,
   "id": "4a4a839f",
   "metadata": {},
   "outputs": [],
   "source": [
    "from sqlalchemy import create_engine, text\n",
    "import pymysql\n",
    "import pandas as pd\n",
    "db_connection_str = f'mysql+pymysql://{DB_USER}:{DB_PASSWORD}@{DB_HOST}:{DB_PORT}/{DB_NAME}'\n",
    "db_connection = create_engine(db_connection_str)\n",
    "conn = db_connection.connect()"
   ]
  },
  {
   "cell_type": "code",
   "execution_count": 2,
   "id": "57f4d46c",
   "metadata": {},
   "outputs": [
    {
     "ename": "NameError",
     "evalue": "name 'df' is not defined",
     "output_type": "error",
     "traceback": [
      "\u001b[1;31m---------------------------------------------------------------------------\u001b[0m",
      "\u001b[1;31mNameError\u001b[0m                                 Traceback (most recent call last)",
      "Cell \u001b[1;32mIn[2], line 1\u001b[0m\n\u001b[1;32m----> 1\u001b[0m df\u001b[38;5;241m.\u001b[39mto_sql(name\u001b[38;5;241m=\u001b[39m\u001b[38;5;124m'\u001b[39m\u001b[38;5;124mbank_address\u001b[39m\u001b[38;5;124m'\u001b[39m, con\u001b[38;5;241m=\u001b[39mdb_connection, if_exists\u001b[38;5;241m=\u001b[39m\u001b[38;5;124m'\u001b[39m\u001b[38;5;124mreplace\u001b[39m\u001b[38;5;124m'\u001b[39m,index\u001b[38;5;241m=\u001b[39m\u001b[38;5;28;01mFalse\u001b[39;00m)\n",
      "\u001b[1;31mNameError\u001b[0m: name 'df' is not defined"
     ]
    }
   ],
   "source": [
    "df.to_sql(name='bank_address', con=db_connection, if_exists='append',index=False)"
   ]
  },
  {
   "cell_type": "code",
   "execution_count": 3,
   "id": "2ba4d39f",
   "metadata": {},
   "outputs": [
    {
     "name": "stderr",
     "output_type": "stream",
     "text": [
      "C:\\Users\\ghtjq\\anaconda3\\Lib\\site-packages\\pandas\\core\\arrays\\masked.py:61: UserWarning: Pandas requires version '1.3.6' or newer of 'bottleneck' (version '1.3.5' currently installed).\n",
      "  from pandas.core import (\n"
     ]
    },
    {
     "data": {
      "text/html": [
       "<div>\n",
       "<style scoped>\n",
       "    .dataframe tbody tr th:only-of-type {\n",
       "        vertical-align: middle;\n",
       "    }\n",
       "\n",
       "    .dataframe tbody tr th {\n",
       "        vertical-align: top;\n",
       "    }\n",
       "\n",
       "    .dataframe thead th {\n",
       "        text-align: right;\n",
       "    }\n",
       "</style>\n",
       "<table border=\"1\" class=\"dataframe\">\n",
       "  <thead>\n",
       "    <tr style=\"text-align: right;\">\n",
       "      <th></th>\n",
       "      <th>은행</th>\n",
       "      <th>지점</th>\n",
       "      <th>주소</th>\n",
       "    </tr>\n",
       "  </thead>\n",
       "  <tbody>\n",
       "    <tr>\n",
       "      <th>0</th>\n",
       "      <td>BNK경남은행</td>\n",
       "      <td>LH</td>\n",
       "      <td>경상남도 진주시 충무공동 충의로 19 LH진주사옥</td>\n",
       "    </tr>\n",
       "    <tr>\n",
       "      <th>1</th>\n",
       "      <td>BNK경남은행</td>\n",
       "      <td>가산디지털</td>\n",
       "      <td>서울특별시 금천구 가산동 가산디지털 1로</td>\n",
       "    </tr>\n",
       "    <tr>\n",
       "      <th>2</th>\n",
       "      <td>BNK경남은행</td>\n",
       "      <td>가음정금융센터</td>\n",
       "      <td>경상남도 창원시 성산구 대정로 36</td>\n",
       "    </tr>\n",
       "    <tr>\n",
       "      <th>3</th>\n",
       "      <td>BNK경남은행</td>\n",
       "      <td>강남</td>\n",
       "      <td>서울특별시 강남구 대치동 영동대로 421</td>\n",
       "    </tr>\n",
       "    <tr>\n",
       "      <th>4</th>\n",
       "      <td>BNK경남은행</td>\n",
       "      <td>거제고현</td>\n",
       "      <td>경상남도 거제시 고현동 거제중앙로 1895</td>\n",
       "    </tr>\n",
       "  </tbody>\n",
       "</table>\n",
       "</div>"
      ],
      "text/plain": [
       "        은행       지점                           주소\n",
       "0  BNK경남은행       LH  경상남도 진주시 충무공동 충의로 19 LH진주사옥\n",
       "1  BNK경남은행    가산디지털       서울특별시 금천구 가산동 가산디지털 1로\n",
       "2  BNK경남은행  가음정금융센터          경상남도 창원시 성산구 대정로 36\n",
       "3  BNK경남은행       강남       서울특별시 강남구 대치동 영동대로 421\n",
       "4  BNK경남은행     거제고현      경상남도 거제시 고현동 거제중앙로 1895"
      ]
     },
     "execution_count": 3,
     "metadata": {},
     "output_type": "execute_result"
    }
   ],
   "source": [
    "import pandas as pd\n",
    "\n",
    "df = pd.read_csv(\"bank_address.csv\")\n",
    "df.head()"
   ]
  },
  {
   "cell_type": "code",
   "execution_count": 6,
   "id": "b920057d",
   "metadata": {},
   "outputs": [],
   "source": [
    "####### 도로명주소 위도 경도 값으로 바꿔주기 ########\n",
    "from geopy.geocoders import Nominatim\n",
    "geo_local = Nominatim(user_agent='South Korea')\n",
    "\n",
    "# 위도, 경도 반환하는 함수\n",
    "def geocoding(address):\n",
    "    try:\n",
    "        geo = geo_local.geocode(address)\n",
    "        x_y = [geo.latitude, geo.longitude]\n",
    "        return x_y\n",
    "\n",
    "    except:\n",
    "        return [0,0]"
   ]
  },
  {
   "cell_type": "code",
   "execution_count": null,
   "id": "63839d8c",
   "metadata": {},
   "outputs": [],
   "source": [
    "#####주소를 위,경도 값으로 변환하기 #####\n",
    "df.위도, df.경도 = df.apply(lambda x: geocoding(x.주소), axis = 1)\n",
    "df.head()"
   ]
  },
  {
   "cell_type": "code",
   "execution_count": null,
   "id": "e68523e4",
   "metadata": {},
   "outputs": [],
   "source": []
  }
 ],
 "metadata": {
  "kernelspec": {
   "display_name": "Python 3 (ipykernel)",
   "language": "python",
   "name": "python3"
  },
  "language_info": {
   "codemirror_mode": {
    "name": "ipython",
    "version": 3
   },
   "file_extension": ".py",
   "mimetype": "text/x-python",
   "name": "python",
   "nbconvert_exporter": "python",
   "pygments_lexer": "ipython3",
   "version": "3.11.5"
  }
 },
 "nbformat": 4,
 "nbformat_minor": 5
}
